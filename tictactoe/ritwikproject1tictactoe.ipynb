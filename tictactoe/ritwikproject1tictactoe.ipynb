{
 "cells": [
  {
   "cell_type": "code",
   "execution_count": 40,
   "metadata": {},
   "outputs": [],
   "source": [
    "from __future__ import print_function\n",
    "from IPython.display import clear_output\n",
    "def display_board(board):\n",
    "    \n",
    "    clear_output()\n",
    "    print('   |   |')\n",
    "    print(' ' + board[7] + ' | ' + board[8] + ' | ' + board[9])\n",
    "    print('   |   |')\n",
    "    print('-----------')\n",
    "    print('   |   |')\n",
    "    print(' ' + board[4] + ' | ' + board[5] + ' | ' + board[6])\n",
    "    print('   |   |')\n",
    "    print('-----------')\n",
    "    print('   |   |')\n",
    "    print(' ' + board[1] + ' | ' + board[2] + ' | ' + board[3])\n",
    "    print('   |   |')"
   ]
  },
  {
   "cell_type": "code",
   "execution_count": 41,
   "metadata": {},
   "outputs": [],
   "source": [
    "def player_input():\n",
    "    \n",
    "    marker = raw_input('Player 1: Do you want to be X or O?').upper()\n",
    "\n",
    "    if marker == 'X':\n",
    "        return ('X', 'O')\n",
    "    else:\n",
    "        return ('O', 'X')"
   ]
  },
  {
   "cell_type": "code",
   "execution_count": 42,
   "metadata": {},
   "outputs": [],
   "source": [
    "def place_marker(board, marker, position):\n",
    "    board[position] = marker"
   ]
  },
  {
   "cell_type": "code",
   "execution_count": 43,
   "metadata": {},
   "outputs": [],
   "source": [
    "def win_check(board,mark):\n",
    "    \n",
    "    return ((board[7] == mark and board[8] == mark and board[9] == mark) or \n",
    "    (board[4] == mark and board[5] == mark and board[6] == mark) or \n",
    "    (board[1] == mark and board[2] == mark and board[3] == mark) or \n",
    "    (board[7] == mark and board[4] == mark and board[1] == mark) or \n",
    "    (board[8] == mark and board[5] == mark and board[2] == mark) or \n",
    "    (board[9] == mark and board[6] == mark and board[3] == mark) or \n",
    "    (board[7] == mark and board[5] == mark and board[3] == mark) or \n",
    "    (board[9] == mark and board[5] == mark and board[1] == mark))"
   ]
  },
  {
   "cell_type": "code",
   "execution_count": 44,
   "metadata": {},
   "outputs": [],
   "source": [
    "def space_check(board, position):\n",
    "    \n",
    "    return board[position] == ' '"
   ]
  },
  {
   "cell_type": "code",
   "execution_count": 45,
   "metadata": {},
   "outputs": [],
   "source": [
    "def full_board_check(board):\n",
    "    for i in range(1,10):\n",
    "        if space_check(board, i):\n",
    "            return False\n",
    "    return True"
   ]
  },
  {
   "cell_type": "code",
   "execution_count": 47,
   "metadata": {},
   "outputs": [],
   "source": [
    "def player_choice(board):\n",
    "    position = ' '\n",
    "    while position not in '1 2 3 4 5 6 7 8 9'.split() or not space_check(board, int(position)):\n",
    "        \n",
    "        print('Choose your next position: (1-9) ')\n",
    "        print(\"7   8   9\")\n",
    "        print(\"4   5   6\")\n",
    "        print(\"1   2   3\")\n",
    "        position = raw_input()\n",
    "    return int(position)"
   ]
  },
  {
   "cell_type": "code",
   "execution_count": 48,
   "metadata": {},
   "outputs": [],
   "source": [
    "def replay():\n",
    "    \n",
    "    return raw_input('Do you want to play again? Enter Yes or No: ').lower().startswith('y')"
   ]
  },
  {
   "cell_type": "code",
   "execution_count": null,
   "metadata": {},
   "outputs": [
    {
     "name": "stdout",
     "output_type": "stream",
     "text": [
      "   |   |\n",
      "   |   |  \n",
      "   |   |\n",
      "-----------\n",
      "   |   |\n",
      "   |   |  \n",
      "   |   |\n",
      "-----------\n",
      "   |   |\n",
      "   | X |  \n",
      "   |   |\n",
      "Choose your next position: (1-9) \n",
      "7   8   9\n",
      "4   5   6\n",
      "1   2   3\n"
     ]
    }
   ],
   "source": [
    "print('Welcome to Tic Tac Toe!')\n",
    "while True:\n",
    "    theBoard = [' '] * 10\n",
    "    player1_marker, player2_marker = player_input()\n",
    "    game_on = True\n",
    "\n",
    "    while game_on:\n",
    "        display_board(theBoard)\n",
    "        position = player_choice(theBoard)\n",
    "        place_marker(theBoard, player1_marker, position)\n",
    "\n",
    "        if win_check(theBoard, player1_marker):\n",
    "            display_board(theBoard)\n",
    "            print('Player 1 has won!')\n",
    "            game_on = False\n",
    "            break\n",
    "        else:\n",
    "            if full_board_check(theBoard):\n",
    "                display_board(theBoard)\n",
    "                print('The game is a draw!')\n",
    "                break\n",
    "                \n",
    "        display_board(theBoard)\n",
    "        position = player_choice(theBoard)\n",
    "        place_marker(theBoard, player2_marker, position)\n",
    "\n",
    "        if win_check(theBoard, player2_marker):\n",
    "            display_board(theBoard)\n",
    "            print('Player 2 has won!')\n",
    "            game_on = False\n",
    "            break\n",
    "        else:\n",
    "            if full_board_check(theBoard):\n",
    "                display_board(theBoard)\n",
    "                print('The game is a draw!')\n",
    "                break\n",
    "\n",
    "    if not replay():\n",
    "        break"
   ]
  },
  {
   "cell_type": "code",
   "execution_count": null,
   "metadata": {},
   "outputs": [],
   "source": []
  }
 ],
 "metadata": {
  "kernelspec": {
   "display_name": "Python 2",
   "language": "python",
   "name": "python2"
  },
  "language_info": {
   "codemirror_mode": {
    "name": "ipython",
    "version": 2
   },
   "file_extension": ".py",
   "mimetype": "text/x-python",
   "name": "python",
   "nbconvert_exporter": "python",
   "pygments_lexer": "ipython2",
   "version": "2.7.16"
  }
 },
 "nbformat": 4,
 "nbformat_minor": 2
}
